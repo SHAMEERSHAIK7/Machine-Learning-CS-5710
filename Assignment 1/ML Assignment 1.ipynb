{
 "cells": [
  {
   "cell_type": "code",
   "execution_count": 1,
   "id": "97948be6",
   "metadata": {},
   "outputs": [
    {
     "name": "stdout",
     "output_type": "stream",
     "text": [
      "[19, 22, 19, 24, 20, 25, 26, 24, 25, 24]\n",
      "[19, 19, 20, 22, 24, 24, 24, 25, 25, 26]\n",
      "19\n",
      "26\n",
      "[19, 19, 20, 22, 24, 24, 24, 25, 25, 26, 19]\n",
      "[19, 19, 20, 22, 24, 24, 24, 25, 25, 26, 19, 26]\n",
      "12\n",
      "5\n",
      "24.0\n",
      "273\n",
      "22.75\n",
      "7\n"
     ]
    }
   ],
   "source": [
    "#Question-1\n",
    "\n",
    "ages = [19, 22, 19, 24, 20, 25, 26, 24, 25, 24]   # List of 10 Student Ages\n",
    "print(ages)                                      # ages list’s printing\n",
    "ages.sort()                                     # Student ages sorting\n",
    "print(ages)                              # Sorted student ages list printing\n",
    "s = min(ages)                      # Obtaining the minimum age and putting it in Variable A\n",
    "p = max(ages)                         # Obtaining and storing the minimum age in variable b\n",
    "print(s)                                         # displaying the value contained in the variable a\n",
    "print(p)                                       # displaying the value contained in the variable b\n",
    "ages.append(s)                                            # The min value has been added to the list.\n",
    "print(ages)                                            # ages list printing\n",
    "ages.append(p)                                           # include the maximum value\n",
    "print(ages)                                                     # ages list printing\n",
    "q = len(ages)                                                 # calculating the list's length\n",
    "print(q)                                                      # the length is being printed\n",
    "u = (q-1)//2                                                    # floor division finding\n",
    "print(u)                                                          # displaying d's value\n",
    "med = (ages[u] + ages[u+1])/2                    # calculating the median\n",
    "print(med)                                                      # the median value printed\n",
    "sum = sum(ages)                                                # calculating the age total\n",
    "print(sum)                                                           # printing the age total\n",
    "avg = sum/q                                                        # calculating the mean\n",
    "print(avg)                                                               # displaying the median\n",
    "range = p-s                                                        # Calculating the range\n",
    "print(range)                                                       # the range is printed\n",
    "\n"
   ]
  },
  {
   "cell_type": "code",
   "execution_count": 2,
   "id": "ebb9fcce",
   "metadata": {},
   "outputs": [
    {
     "name": "stdout",
     "output_type": "stream",
     "text": [
      "{'first_name': 'Shameer', 'last_name': 'Shaik', 'gender': 'Male', 'age': 24, 'Marital_status': 'No', 'skills': ['C', 'Python'], 'country': 'India', 'city': 'Vijayawada', 'address': 'Vijayawada Local'}\n",
      "9\n",
      "['C', 'Python']\n",
      "<class 'list'>\n",
      "{'first_name': 'Shameer', 'last_name': 'Shaik', 'gender': 'Male', 'age': 24, 'Marital_status': 'No', 'skills': ['C', 'Java', 'Python', 'Pyspark', 'Angular'], 'country': 'India', 'city': 'Vijayawada', 'address': 'Vijayawada Local'}\n",
      "['first_name', 'last_name', 'gender', 'age', 'Marital_status', 'skills', 'country', 'city', 'address']\n",
      "['Shameer', 'Shaik', 'Male', 24, 'No', ['C', 'Java', 'Python', 'Pyspark', 'Angular'], 'India', 'Vijayawada', 'Vijayawada Local']\n"
     ]
    }
   ],
   "source": [
    "#Question 2\n",
    "dog={}\n",
    "dog['name']= 'Rocky'\n",
    "dog['color']= 'brown'\n",
    "dog['breed']= 'German Shepherd'\n",
    "dog['legs']=4\n",
    "dog['age']=5\n",
    "\n",
    "person=dict()\n",
    "person['first_name']='Shameer'\n",
    "person['last_name']= 'Shaik'\n",
    "person['gender']='Male'\n",
    "person['age']=24\n",
    "person['Marital_status']='No'\n",
    "person['skills']=['C','Python']\n",
    "person['country']='India'\n",
    "person['city']='Vijayawada'\n",
    "person['address']= 'Vijayawada Local'\n",
    "\n",
    "print(person)\n",
    "print(len(person))\n",
    "skills_of_person= person.get('skills')\n",
    "print(person.get('skills'))\n",
    "print(type(skills_of_person))\n",
    "person.update({'skills':['C','Java','Python','Pyspark','Angular']})\n",
    "print(person)\n",
    "person_keys= list(person.keys())\n",
    "print(person_keys)\n",
    "person_values= list(person.values())\n",
    "print(person_values)\n"
   ]
  },
  {
   "cell_type": "code",
   "execution_count": 3,
   "id": "14361cfa",
   "metadata": {},
   "outputs": [
    {
     "name": "stdout",
     "output_type": "stream",
     "text": [
      "('akhila', 'alekya', 'Priya', 'gopi', 'rahul', 'revanth')\n",
      "6\n",
      "('akhila', 'alekya', 'Priya', 'gopi', 'rahul', 'revanth', 'sam', 'suresh')\n"
     ]
    }
   ],
   "source": [
    "#Question 3\n",
    "\n",
    "sis=('akhila','alekya','Priya')\n",
    "bros=('gopi','rahul','revanth')\n",
    "sib= sis+ bros\n",
    "print(sib)\n",
    "sib_count=len(sib)\n",
    "print(sib_count)\n",
    "temp_sib=list(sib)\n",
    "temp_sib.extend(['sam','suresh'])\n",
    "fam_mem=tuple(temp_sib)\n",
    "print(fam_mem)\n"
   ]
  },
  {
   "cell_type": "code",
   "execution_count": 4,
   "id": "38a896fe",
   "metadata": {},
   "outputs": [
    {
     "name": "stdout",
     "output_type": "stream",
     "text": [
      "{'Microsoft', 'IBM', 'Oracle', 'Amazon', 'Google', 'Twitter', 'Facebook', 'Apple'}\n",
      "{'Microsoft', 'Oracle', 'Amazon', 'Google', 'Twitter', 'Facebook', 'Apple', 'HSBC', 'Value Labs', 'Deloitte', 'IBM'}\n",
      "{'Oracle', 'Amazon', 'Google', 'Twitter', 'Facebook', 'Apple', 'HSBC', 'Value Labs', 'Deloitte', 'IBM'}\n",
      "{19, 20, 22, 24, 25, 26, 27, 28}\n",
      "{19, 20, 22, 24, 25, 26}\n",
      "True\n",
      "False\n",
      "{19, 20, 22, 24, 25, 26, 27, 28}\n",
      "{19, 20, 22, 24, 25, 26, 27, 28}\n",
      "3\n"
     ]
    }
   ],
   "source": [
    "#Question 4\n",
    "\n",
    "it_comp = {'Facebook', 'Google', 'Microsoft', 'Apple', 'IBM', 'Oracle', 'Amazon'}\n",
    "len_of_it=len(it_comp)\n",
    "it_comp.add('Twitter')\n",
    "print(it_comp)\n",
    "it_comp.update({'Deloitte','Value Labs','HSBC'})\n",
    "print(it_comp)\n",
    "it_comp.remove('Microsoft')\n",
    "print(it_comp)\n",
    "# When an element that is not part of the set is removed using the remove method, an error is raised. Discard, however, will not raise an error even if no element is present.\n",
    "A = {19, 22, 24, 20, 25, 26}\n",
    "B = {19, 22, 20, 25, 26, 24, 28, 27}\n",
    "\n",
    "\n",
    "C=A.union(B)\n",
    "print(C)\n",
    "A_inter_B= A.intersection(B)\n",
    "print(A_inter_B)\n",
    "subset_check= A.issubset(B)\n",
    "print(subset_check)\n",
    "\n",
    "disjoint_check= A.isdisjoint(B)\n",
    "print(disjoint_check)\n",
    "E=A.union(B)\n",
    "D= B.union(A)\n",
    "print(E)\n",
    "print(D)\n",
    "\n",
    "del A \n",
    "del B\n",
    "del C\n",
    "del D\n",
    "del E\n",
    "age = [22, 19, 24, 25, 26, 24, 25, 24]\n",
    "len_age=len(age)\n",
    "age_set=set(age)\n",
    "len_age_set=len(age_set)\n",
    "diff_age= len_age-len_age_set\n",
    "print(diff_age)\n"
   ]
  },
  {
   "cell_type": "code",
   "execution_count": 5,
   "id": "1a700153",
   "metadata": {},
   "outputs": [
    {
     "name": "stdout",
     "output_type": "stream",
     "text": [
      "Area of circle the with radius 30 is 2827.4333882308138\n",
      "Circumference of circle the with radius 30 is 188.49555921538757\n",
      "Enter the radius of circle5\n",
      "Area of circle the with radius 5.0 is 78.53981633974483\n"
     ]
    }
   ],
   "source": [
    "#Question 5\n",
    "\n",
    "\n",
    "from math import pi                                                     # Pi import from the math module\n",
    "\n",
    "r = 30                                                                       # Given radius = 30\n",
    "\n",
    "area_of_circle = pi*r**2                                                    # calculating the circle's area\n",
    "\n",
    "print(\"Area of circle the with radius 30 is \" + str(area_of_circle))  \n",
    " # printing the circle's area\n",
    "\n",
    "circum_of_circle = 2*pi*r                                            \n",
    "    # calculating the circle's circumference\n",
    "\n",
    "print(\"Circumference of circle the with radius 30 is \" + str(circum_of_circle))   \n",
    "  # Printing the circle's circumference\n",
    "\n",
    "\n",
    "radius = float(input(\"Enter the radius of circle\"))      \n",
    " # Using the user's input for the radius\n",
    "\n",
    "\n",
    "area_of_circle_new_radius = pi*radius**2                \n",
    "  # calculating the circle's area using the user's entered radius\n",
    "\n",
    "print(\"Area of circle the with radius \"+str(radius) + \" is \" + str(area_of_circle_new_radius))\n",
    " # printing the circle's area\n",
    "\n",
    "\n"
   ]
  },
  {
   "cell_type": "code",
   "execution_count": 6,
   "id": "6249dc49",
   "metadata": {},
   "outputs": [
    {
     "name": "stdout",
     "output_type": "stream",
     "text": [
      "12\n",
      "10\n"
     ]
    }
   ],
   "source": [
    "#Question 6\n",
    "\n",
    "line=\"I am a teacher and I love to inspire and teach people\"\n",
    "word_line=line.split(' ')\n",
    "print(len(word_line))\n",
    "uniq_words= set(word_line)\n",
    "uniq_words=list(uniq_words)\n",
    "print(len(uniq_words))\n"
   ]
  },
  {
   "cell_type": "code",
   "execution_count": 7,
   "id": "a79138f3",
   "metadata": {},
   "outputs": [
    {
     "name": "stdout",
     "output_type": "stream",
     "text": [
      "Name   \tAge\tCountry\tCity\n",
      "Asabeneh  250\tFinland\tHelsinki\n"
     ]
    }
   ],
   "source": [
    "#Question 7\n",
    "\n",
    "print('Name   \\tAge\\tCountry\\tCity')\n",
    "print('Asabeneh  250\\tFinland\\tHelsinki')\n"
   ]
  },
  {
   "cell_type": "code",
   "execution_count": 8,
   "id": "5b5c01a1",
   "metadata": {},
   "outputs": [
    {
     "name": "stdout",
     "output_type": "stream",
     "text": [
      "The area of a circle is 314.0\n"
     ]
    }
   ],
   "source": [
    "#Question 8\n",
    "r = 10\n",
    "a = 3.14 * r ** 2\n",
    "\n",
    "print('The area of a circle is', a)"
   ]
  },
  {
   "cell_type": "code",
   "execution_count": 9,
   "id": "62916cf4",
   "metadata": {},
   "outputs": [
    {
     "name": "stdout",
     "output_type": "stream",
     "text": [
      "weight in kgs :  [68.04, 70.31, 65.77, 67.13]\n"
     ]
    }
   ],
   "source": [
    "#Question 9\n",
    "\n",
    "#students weights list\n",
    "weight_lbs = [150, 155, 145, 148]\n",
    "weight_kgs = []\n",
    "\n",
    "#weight to kg conversion\n",
    "for x in weight_lbs:         # for loop\n",
    "    weight_kgs.append(x*0.453592)    #values appending\n",
    "weight_kgs=[round(x,2) for x in weight_kgs]\n",
    "print(\"weight in kgs : \",weight_kgs)\n"
   ]
  },
  {
   "cell_type": "code",
   "execution_count": 10,
   "id": "84c625af",
   "metadata": {},
   "outputs": [
    {
     "name": "stdout",
     "output_type": "stream",
     "text": [
      "[[ 6]\n",
      " [ 3]\n",
      " [ 7]\n",
      " [11]] [[ 2]\n",
      " [10]\n",
      " [ 1]\n",
      " [ 6]] [[1]\n",
      " [1]\n",
      " [0]\n",
      " [0]] [[0]\n",
      " [0]\n",
      " [0]\n",
      " [1]]\n",
      "[4. 1. 5. 9.]\n",
      "[[1. 4.]\n",
      " [1. 1.]\n",
      " [0. 5.]\n",
      " [0. 9.]]\n",
      "1\n",
      "[4. 7. 3. 1.]\n",
      "[[1. 4.]\n",
      " [1. 7.]\n",
      " [0. 3.]\n",
      " [0. 1.]]\n",
      "0\n",
      "[ 5.  2.  6. 10.]\n",
      "[[ 1.  5.]\n",
      " [ 1.  2.]\n",
      " [ 0.  6.]\n",
      " [ 0. 10.]]\n",
      "1\n",
      "[0. 3. 1. 5.]\n",
      "[[1. 0.]\n",
      " [1. 3.]\n",
      " [0. 1.]\n",
      " [0. 5.]]\n",
      "1\n",
      "[[0]\n",
      " [0]\n",
      " [0]\n",
      " [1]] [1 0 1 1]\n"
     ]
    },
    {
     "name": "stderr",
     "output_type": "stream",
     "text": [
      "C:\\Users\\91898\\AppData\\Local\\Programs\\Python\\Python311\\Lib\\site-packages\\sklearn\\neighbors\\_classification.py:215: DataConversionWarning: A column-vector y was passed when a 1d array was expected. Please change the shape of y to (n_samples,), for example using ravel().\n",
      "  return self._fit(X, y)\n"
     ]
    },
    {
     "ename": "NameError",
     "evalue": "name 'confusion_matrix' is not defined",
     "output_type": "error",
     "traceback": [
      "\u001b[1;31m---------------------------------------------------------------------------\u001b[0m",
      "\u001b[1;31mNameError\u001b[0m                                 Traceback (most recent call last)",
      "Cell \u001b[1;32mIn[10], line 50\u001b[0m\n\u001b[0;32m     47\u001b[0m     \u001b[38;5;28mprint\u001b[39m(result)\n\u001b[0;32m     48\u001b[0m \u001b[38;5;28mprint\u001b[39m(y_test,ypred)\n\u001b[1;32m---> 50\u001b[0m A \u001b[38;5;241m=\u001b[39m \u001b[43mconfusion_matrix\u001b[49m(y_test, y_test_pred)\n\u001b[0;32m     51\u001b[0m \u001b[38;5;28mprint\u001b[39m(A)\n\u001b[0;32m     52\u001b[0m \u001b[38;5;28;01mfrom\u001b[39;00m \u001b[38;5;21;01msklearn\u001b[39;00m\u001b[38;5;21;01m.\u001b[39;00m\u001b[38;5;21;01mmetrics\u001b[39;00m \u001b[38;5;28;01mimport\u001b[39;00m accuracy_score, confusion_matrix\n",
      "\u001b[1;31mNameError\u001b[0m: name 'confusion_matrix' is not defined"
     ]
    }
   ],
   "source": [
    "#Question 10\n",
    "\n",
    "\n",
    "import numpy \t\t\t #Bringing in the required libraries \n",
    "import sklearn\n",
    "from sklearn.model_selection import train_test_split\n",
    "from sklearn.neighbors import KNeighborsClassifier\n",
    "from sklearn.metrics import accuracy_score\n",
    "from collections import Counter\n",
    "import numpy as np\n",
    "from sklearn.linear_model import LogisticRegression\n",
    "a = np.array([1,2,3,6,6,7,10,11])            #constructing arrays\n",
    "y = np.array([0,0,1,1,1,0,0,0])\n",
    "x_train,x_test,y_train,y_test=train_test_split(a,y,test_size=0.5,random_state=4,stratify = y)\n",
    "x_train = x_train.reshape(-1,1)\n",
    "x_test = x_test.reshape(-1,1)\n",
    "y_train = y_train.reshape(-1,1)\n",
    "y_test = y_test.reshape(-1,1)\n",
    "print(x_train,x_test,y_train,y_test)\n",
    "def KNNAlgo(a,b,k,d):\n",
    "    dist = []                                 \n",
    "    #The Euclidean distance calculation\n",
    "    dist_ind = np.sqrt(np.sum((a-b)**2, axis=1))\n",
    "    print(dist_ind)\n",
    "    #combining the distance and the output label\n",
    "    main_arr = np.column_stack((d,dist_ind))\n",
    "    print(main_arr)\n",
    "    #Distances are arranged in descending order.\n",
    "    main = main_arr[main_arr[:,1].argsort()]\n",
    "    #Based on the value of k, calculating the frequency of the labels\n",
    "    count = Counter(main[0:k,0])\n",
    "    keys, vals = list(count.keys()), list(count.values())\n",
    "    if len(vals)>1:\n",
    "        if vals[0]>vals[1]:\n",
    "            return int(keys[0])\n",
    "        else:\n",
    "            return int(keys[1])\n",
    "    else:\n",
    "        return int(keys[0])\n",
    "\n",
    "k=3\n",
    "knn = KNeighborsClassifier(n_neighbors=k)\n",
    "knn.fit(x_train,y_train)\n",
    "ypred = knn.predict(x_test) \n",
    "for i in x_test:                                      #estimating the results' values\n",
    "    result = KNNAlgo(x_train,i,3,y_train)\n",
    "    print(result)\n",
    "print(y_test,ypred)\n",
    "\n",
    "A = confusion_matrix(y_test, y_test_pred)\n",
    "print(A)\n",
    "from sklearn.metrics import accuracy_score, confusion_matrix\n",
    "confusion_matrix(y_test, ypred)\n",
    "accuracy_score(y_test,ypred)                 #determining the precision\n",
    "A = confusion_matrix(y_test, ypred)\n",
    "print(A)\n",
    "sensitivity = (A[1][1])/(A[1][1] + A[1][0])           #figuring out the sensitivity\n",
    "print(sensitivity)            \n",
    "specificity = (A[0][0])/(A[0][0]+A[0][1])          #Making a Specificity Calculation\n",
    "print(specificity)"
   ]
  },
  {
   "cell_type": "code",
   "execution_count": null,
   "id": "12a242ee",
   "metadata": {},
   "outputs": [],
   "source": []
  },
  {
   "cell_type": "code",
   "execution_count": null,
   "id": "af0dfacd",
   "metadata": {
    "scrolled": true
   },
   "outputs": [],
   "source": []
  },
  {
   "cell_type": "code",
   "execution_count": null,
   "id": "836ba6f5",
   "metadata": {},
   "outputs": [],
   "source": []
  }
 ],
 "metadata": {
  "kernelspec": {
   "display_name": "Python 3 (ipykernel)",
   "language": "python",
   "name": "python3"
  },
  "language_info": {
   "codemirror_mode": {
    "name": "ipython",
    "version": 3
   },
   "file_extension": ".py",
   "mimetype": "text/x-python",
   "name": "python",
   "nbconvert_exporter": "python",
   "pygments_lexer": "ipython3",
   "version": "3.11.1"
  }
 },
 "nbformat": 4,
 "nbformat_minor": 5
}
